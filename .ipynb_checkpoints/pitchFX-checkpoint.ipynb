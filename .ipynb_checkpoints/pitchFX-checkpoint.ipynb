{
 "cells": [
  {
   "cell_type": "code",
   "execution_count": 1,
   "metadata": {
    "collapsed": true
   },
   "outputs": [],
   "source": [
    "import lxml\n",
    "import xml.etree.ElementTree as ET\n",
    "import pandas as pd\n",
    "import numpy as np\n",
    "import glob\n",
    "import os\n",
    "from lxml import etree\n",
    "import xml.etree.ElementTree as ET\n",
    "import pandas as pd"
   ]
  },
  {
   "cell_type": "code",
   "execution_count": 2,
   "metadata": {
    "collapsed": true
   },
   "outputs": [],
   "source": [
    "def get_xml_files(path):\n",
    "    xml_list = []\n",
    "    for root, dirs, files in os.walk(path):\n",
    "        for filename in files:\n",
    "            if filename.endswith(\"inning.xml\"):\n",
    "                xml_list.append(os.path.join(path, filename))\n",
    "                for file in glob.iglob(os.path.join(path, filename)):\n",
    "                       with open(file) as f:\n",
    "                              data = etree.parse(f)\n",
    "    return data"
   ]
  },
  {
   "cell_type": "code",
   "execution_count": null,
   "metadata": {
    "collapsed": true
   },
   "outputs": [],
   "source": [
    "# get_xml_files(\"C:\\\\Users\\\\pruth\\\\Desktop\\\\CSYE 7245\\\\NeuroScouting\\\\2013_pitchfx_data\\\\2013_pitchfx_data\")"
   ]
  },
  {
   "cell_type": "code",
   "execution_count": null,
   "metadata": {
    "collapsed": true
   },
   "outputs": [],
   "source": [
    "path = \"C:\\\\Users\\\\pruth\\\\Desktop\\\\CSYE 7245\\\\NeuroScouting\\\\2013_pitchfx_data\\\\2013_pitchfx_data\"\n",
    "xmlfiles = [os.path.join(root, name)\n",
    "             for root, dirs, files in os.walk(path)\n",
    "             for name in files\n",
    "             if name.endswith((\"inning.xml\"))]"
   ]
  },
  {
   "cell_type": "code",
   "execution_count": null,
   "metadata": {
    "collapsed": true
   },
   "outputs": [],
   "source": [
    "def get_xml_data(list):\n",
    "    data = []\n",
    "    for filename in list :\n",
    "        print(filename)\n",
    "        root = ET.parse(filename)\n",
    "        data = [ text for text in root.findall(\"whatever you want to get\") ]\n",
    "    return data"
   ]
  },
  {
   "cell_type": "code",
   "execution_count": null,
   "metadata": {},
   "outputs": [],
   "source": [
    "xmlfiles"
   ]
  },
  {
   "cell_type": "code",
   "execution_count": null,
   "metadata": {
    "collapsed": true
   },
   "outputs": [],
   "source": [
    "\n",
    "# END IMPORTS\n",
    "\n",
    "xml_data = open('C:\\\\Users\\\\pruth\\\\Desktop\\\\CSYE 7245\\\\NeuroScouting\\\\2013_pitchfx_data\\\\2013_pitchfx_data\\\\03_31\\\\TEX_HOU_1_inning.xml').read() #Loading the raw XML data\n",
    "\n",
    "def xml2df(xml_data):\n",
    "    root = ET.XML(xml_data) # element tree\n",
    "    all_records = [] #This is our record list which we will convert into a dataframe\n",
    "    for i, child in enumerate(root): #Begin looping through our root tree\n",
    "        record = {} #Place holder for our record\n",
    "        for subchild in child: #iterate through the subchildren to user-agent, Ex: ID, String, Description.\n",
    "            print(subchild)\n",
    "            for event, element in subchild:\n",
    "                if element.tag == 'top':\n",
    "                     print(element.text)\n",
    "                elif element.tag == 'bottom':\n",
    "                    print(\"** cleaning up the subtree\")\n",
    "                    element.clear()\n",
    "            \n",
    "#             record[subchild.tag] = subchild.text #Extract the text create a new dictionary key, value pair\n",
    "#             all_records.append(record) #Append this record to all_records.\n",
    "#     return pd.DataFrame(all_records) #return records as DataFrame"
   ]
  },
  {
   "cell_type": "code",
   "execution_count": null,
   "metadata": {},
   "outputs": [],
   "source": [
    "xml2df(xml_data)"
   ]
  },
  {
   "cell_type": "code",
   "execution_count": 11,
   "metadata": {
    "collapsed": true
   },
   "outputs": [],
   "source": [
    "class pitchFX_object():\n",
    "    p_throws = \"\"\n",
    "    stand = \"\"\n",
    "    pitch_type = \"\"\n",
    "    event = \"\"\n",
    "    \n",
    "    def __init__(p_throws, stand, pitch_type, event):\n",
    "        self.p_throws = p_throws\n",
    "        self.stand = stand\n",
    "        self.pitch_type = pitch_type\n",
    "        self.event = event"
   ]
  },
  {
   "cell_type": "code",
   "execution_count": 18,
   "metadata": {
    "collapsed": true
   },
   "outputs": [],
   "source": [
    "fastballs = {\"FT\":\"F\", \"FF\":\"F\", \"FA\":\"F\", \"FS\":\"F\"}\n",
    "curveballs = {\"CU\":\"C\", \"CB\":\"C\"}\n",
    "slider = {\"SL\":\"S\"}\n",
    "\n",
    "patterns ={\"P1\":\"FFC\",\"P2\":\"FFF\",\"P3\":\"FSS\",\"P4\":\"SFS\"}\n",
    "\n",
    "\n",
    "\n",
    "def pattern_match(L):\n",
    "    if len(L) >= 3:\n",
    "            print(L[-3:])\n",
    "            print('p_throws:'+sub_sub_child.get('p_throws'))\n",
    "\n",
    "    else:\n",
    "        pass     "
   ]
  },
  {
   "cell_type": "code",
   "execution_count": 31,
   "metadata": {
    "scrolled": true
   },
   "outputs": [
    {
     "name": "stdout",
     "output_type": "stream",
     "text": [
      "p_throws:R\n",
      "['FF', 'SL', 'FF']\n",
      "p_throws:R\n",
      "['CH', 'FF', 'FF']\n",
      "p_throws:R\n",
      "p_throws:L\n"
     ]
    },
    {
     "ename": "TypeError",
     "evalue": "Can't convert 'NoneType' object to str implicitly",
     "output_type": "error",
     "traceback": [
      "\u001b[0;31m---------------------------------------------------------------------------\u001b[0m",
      "\u001b[0;31mTypeError\u001b[0m                                 Traceback (most recent call last)",
      "\u001b[0;32m<ipython-input-31-3626b5b9d57f>\u001b[0m in \u001b[0;36m<module>\u001b[0;34m()\u001b[0m\n\u001b[1;32m     21\u001b[0m                         \u001b[0mL\u001b[0m\u001b[1;33m.\u001b[0m\u001b[0mappend\u001b[0m\u001b[1;33m(\u001b[0m\u001b[0msub_sub_sub_child\u001b[0m\u001b[1;33m.\u001b[0m\u001b[0mget\u001b[0m\u001b[1;33m(\u001b[0m\u001b[1;34m'pitch_type'\u001b[0m\u001b[1;33m)\u001b[0m\u001b[1;33m)\u001b[0m\u001b[1;33m\u001b[0m\u001b[0m\n\u001b[1;32m     22\u001b[0m             \u001b[0mpattern_match\u001b[0m\u001b[1;33m(\u001b[0m\u001b[0mL\u001b[0m\u001b[1;33m)\u001b[0m\u001b[1;33m\u001b[0m\u001b[0m\n\u001b[0;32m---> 23\u001b[0;31m             \u001b[0mprint\u001b[0m\u001b[1;33m(\u001b[0m\u001b[1;34m'p_throws:'\u001b[0m\u001b[1;33m+\u001b[0m\u001b[0msub_sub_child\u001b[0m\u001b[1;33m.\u001b[0m\u001b[0mget\u001b[0m\u001b[1;33m(\u001b[0m\u001b[1;34m'p_throws'\u001b[0m\u001b[1;33m)\u001b[0m\u001b[1;33m)\u001b[0m\u001b[1;33m\u001b[0m\u001b[0m\n\u001b[0m\u001b[1;32m     24\u001b[0m \u001b[1;33m\u001b[0m\u001b[0m\n\u001b[1;32m     25\u001b[0m             \u001b[0mL\u001b[0m\u001b[1;33m=\u001b[0m\u001b[1;33m[\u001b[0m\u001b[1;33m]\u001b[0m\u001b[1;33m\u001b[0m\u001b[0m\n",
      "\u001b[0;31mTypeError\u001b[0m: Can't convert 'NoneType' object to str implicitly"
     ]
    }
   ],
   "source": [
    "tree = ET.parse('C:\\\\Users\\\\pruth\\\\Desktop\\\\CSYE 7245\\\\NeuroScouting\\\\2013_pitchfx_data\\\\2013_pitchfx_data\\\\03_31\\\\TEX_HOU_1_inning.xml') #Loading the raw XML data\n",
    "\n",
    "root = tree.getroot()\n",
    "count = 0\n",
    "L = []\n",
    "\n",
    "for child in root:\n",
    "    for sub_child in child:\n",
    "        for sub_sub_child in sub_child:\n",
    "            if sub_sub_child.tag == 'atbat':\n",
    "                \n",
    "                \n",
    "#                 p_throws == sub_sub_child.get('p_throws')\n",
    "#                 print('stand:'+sub_sub_child.get('stand'))\n",
    "#                 stand == sub_sub_child.get('stand')\n",
    "#                 print('event:'+sub_sub_child.get('event'))\n",
    "#                 event == sub_sub_child.get('event')\n",
    "                for sub_sub_sub_child in sub_sub_child:\n",
    "                    if sub_sub_sub_child.tag == 'pitch':\n",
    "                        L.append(sub_sub_sub_child.get('pitch_type'))\n",
    "            pattern_match(L)\n",
    "            \n",
    "         \n",
    "            L=[]\n",
    "           #                     print(sub_sub_sub_child.get('pitch_type'))\n",
    "#                     pitch_type == sub_sub_sub_child.get('pitch_type')\n",
    "#             img_obj = Image_Object(p_throws, stand, pitch_type, event)\n",
    "\n",
    "  \n",
    "    \n",
    "    "
   ]
  },
  {
   "cell_type": "code",
   "execution_count": 26,
   "metadata": {},
   "outputs": [
    {
     "name": "stdout",
     "output_type": "stream",
     "text": [
      "['FF', 'FF']\n",
      "['FF', 'SL', 'FF', 'SL', 'FF']\n",
      "['FF', 'CH', 'FF', 'FF']\n",
      "['FT']\n",
      "['FT', 'FT', 'FT', 'FC', 'FC']\n",
      "['CU', 'FT', 'FT']\n",
      "['FC', 'SL', 'SL']\n",
      "['FF', 'FF', 'FF', 'FF', 'FF', 'FF', 'SL']\n",
      "['SL', 'SL', 'FF', 'SL', 'FF', 'SL', 'FF']\n",
      "['FF', 'SL', 'FF']\n",
      "['SL', 'FF', 'SL', 'SL', 'FF', 'SL']\n",
      "['FC', 'FT', 'FT', 'CH']\n",
      "['FT', 'FT', 'CH']\n",
      "['FT', 'FC', 'CU', 'FT', 'FT']\n",
      "['FT', 'FF', 'FF', 'FF', 'FF', 'FF']\n",
      "['SL', 'SL', 'SL', 'CH', 'FF']\n",
      "['FF', 'FF', 'FF', 'FF', 'SL']\n",
      "['FT', 'FT', 'CH', 'FT', 'FC', 'CH', 'CH']\n",
      "['FT', 'FT', 'FT', 'CH', 'CH']\n",
      "['FT', 'FT', 'FT', 'FT', 'FT']\n",
      "['SL', 'FF']\n",
      "['SL', 'FC']\n",
      "['SL', 'FF', 'SL', 'CH', 'CH', 'SL', 'FF', 'FF']\n",
      "['SL', 'SL', 'SL', 'FF']\n",
      "['FT', 'FT', 'FT']\n",
      "['FC', 'CU', 'FC', 'FT']\n",
      "['CH', 'FT', 'FT', 'FT']\n",
      "['FT', 'FT', 'FF']\n",
      "['FT', 'FC']\n",
      "['FT', 'FT', 'FT', 'FT']\n",
      "['CH', 'CH', 'SL', 'FF']\n",
      "['FF', 'SL', 'FF', 'CH']\n",
      "['CH']\n",
      "['CH', 'FT', 'CH', 'CH', 'FT', 'FT', 'CH']\n",
      "['FT', 'FT', 'FT', 'FT']\n",
      "['FT']\n",
      "['FC', 'FT', 'FT', 'FT']\n",
      "['FT', 'FT', 'FT', 'FT', 'CH']\n",
      "['FT', 'FT']\n",
      "['SL', 'FF', 'FT', 'SL', 'FF']\n",
      "['FF', 'FF', 'SL', 'FF', 'SL']\n",
      "['CH', 'CH']\n",
      "['SL']\n",
      "['FF', 'SL', 'CH']\n",
      "['SL', 'SL', 'SL']\n",
      "['FT', 'FT']\n",
      "['FT', 'FT', 'FT', 'CH', 'FT', 'CH', 'CU']\n",
      "['FT', 'FT', 'FT', 'CH', 'FT']\n",
      "['PO', 'FT']\n",
      "['FT', 'FT', 'CH', 'FT', 'FT']\n",
      "['SL', 'FC', 'SL', 'FC', 'SL', 'SL']\n",
      "['SI', 'SI', 'SI', 'SI']\n",
      "['FF', 'FF', 'FF', 'FF']\n",
      "['FT', 'CU', 'CU', 'FF']\n",
      "['FF', 'FF', 'CH']\n",
      "['FF']\n",
      "['FF', 'CH', 'CH', 'FF']\n",
      "['FF', 'FF', 'FF', 'FF']\n",
      "['FF']\n",
      "['FT', 'FT', 'FT', 'FF', 'CU', 'CU']\n",
      "['FT']\n",
      "['SL', 'SL', 'SL', 'SI', 'SI']\n",
      "['SI', 'SI']\n",
      "['SI', 'SL']\n",
      "['SI', 'SL', 'SI']\n",
      "['SL', 'SL', 'FF']\n",
      "['FT', 'FF', 'FF', 'FF', 'FT', 'FT', 'FT']\n",
      "['FT', 'FF', 'FT']\n",
      "['FF', 'FT']\n",
      "['FT', 'FC', 'FF', 'FT', 'FT']\n"
     ]
    }
   ],
   "source": [
    "tree = ET.parse('C:\\\\Users\\\\pruth\\\\Desktop\\\\CSYE 7245\\\\NeuroScouting\\\\2013_pitchfx_data\\\\2013_pitchfx_data\\\\03_31\\\\TEX_HOU_1_inning.xml') #Loading the raw XML data\n",
    "\n",
    "root = tree.getroot()\n",
    "count = 0\n",
    "L = []\n",
    "\n",
    "for child in root:\n",
    "    for sub_child in child:\n",
    "        for sub_sub_child in sub_child:\n",
    "            if sub_sub_child.tag == 'atbat':\n",
    "#                 print('p_throws:'+sub_sub_child.get('p_throws'))\n",
    "#                 p_throws == sub_sub_child.get('p_throws')\n",
    "#                 print('stand:'+sub_sub_child.get('stand'))\n",
    "#                 stand == sub_sub_child.get('stand')\n",
    "#                 print('event:'+sub_sub_child.get('event'))\n",
    "#                 event == sub_sub_child.get('event')\n",
    "                for sub_sub_sub_child in sub_sub_child:\n",
    "            \n",
    "                    if sub_sub_sub_child.tag == 'pitch':\n",
    "                        L.append(sub_sub_sub_child.get('pitch_type'))\n",
    "                print(L)\n",
    "         \n",
    "                L=[]"
   ]
  }
 ],
 "metadata": {
  "anaconda-cloud": {},
  "kernelspec": {
   "display_name": "Python [conda root]",
   "language": "python",
   "name": "conda-root-py"
  },
  "language_info": {
   "codemirror_mode": {
    "name": "ipython",
    "version": 3
   },
   "file_extension": ".py",
   "mimetype": "text/x-python",
   "name": "python",
   "nbconvert_exporter": "python",
   "pygments_lexer": "ipython3",
   "version": "3.5.2"
  }
 },
 "nbformat": 4,
 "nbformat_minor": 2
}
